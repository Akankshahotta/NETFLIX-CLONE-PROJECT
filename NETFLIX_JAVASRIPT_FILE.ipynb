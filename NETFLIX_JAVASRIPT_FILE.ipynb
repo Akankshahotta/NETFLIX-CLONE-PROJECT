{
  "nbformat": 4,
  "nbformat_minor": 0,
  "metadata": {
    "colab": {
      "name": "NETFLIX-JAVASRIPT FILE",
      "provenance": []
    },
    "kernelspec": {
      "name": "python3",
      "display_name": "Python 3"
    },
    "language_info": {
      "name": "python"
    }
  },
  "cells": [
    {
      "cell_type": "code",
      "metadata": {
        "id": "G3Ja0tHBWL6F"
      },
      "source": [
        "let accordian = document.getElementsByClassName(\"FAQ__title\");\n",
        "\n",
        "for (let i = 0; i < accordian.length; i++) {\n",
        "  accordian[i].addEventListener(\"click\", function () {\n",
        "    if (this.childNodes[1].classList.contains(\"fa-plus\")) {\n",
        "      this.childNodes[1].classList.remove(\"fa-plus\");\n",
        "      this.childNodes[1].classList.add(\"fa-times\");\n",
        "    } else {\n",
        "      this.childNodes[1].classList.remove(\"fa-times\");\n",
        "      this.childNodes[1].classList.add(\"fa-plus\");\n",
        "    }\n",
        "\n",
        "    let content = this.nextElementSibling;\n",
        "    if (content.style.maxHeight) {\n",
        "      content.style.maxHeight = null;\n",
        "    } else {\n",
        "      content.style.maxHeight = content.scrollHeight + \"px\";\n",
        "    }\n",
        "  });\n",
        "}\n"
      ],
      "execution_count": null,
      "outputs": []
    }
  ]
}